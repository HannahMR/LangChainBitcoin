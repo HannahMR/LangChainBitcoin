{
 "cells": [
  {
   "cell_type": "markdown",
   "id": "bd3e7775",
   "metadata": {},
   "source": [
    "# LangChainBitcoin: LLM Agent Bitcoin Tools"
   ]
  },
  {
   "cell_type": "markdown",
   "id": "4a4a3371",
   "metadata": {},
   "source": [
    "This notebook shows some examples of how to use the set of \"tools\" provided in the `LangChainBitcoin` project with the `langchain` project and also the newly announced native function calls provided by the OpenAPI GPt-3/4 APIs. By hooking up Lightning tools directly to the LLM agent, we give it the ability to: interact with the Bitcoin network, hold/send/recv Bitcoin (on-chain or over LN), and also eventually directly mmanage/drive an active node.\n",
    "\n",
    "Earlier versions of the `langchain` project included support for \"tools\" which an agent can use to figure out how to answer a prompt or iterate towards a goal. This was implemented via a series of prompts and chained LLMs to \"teach\" the LLM how to use a set of tools. \n",
    "\n",
    "On June 13th, 2023 [OpenAPI released support for native function calls](https://openai.com/blog/function-calling-and-other-api-updates)! Native function calls can be used to directly give the LLM native tools that it can use. Basic usage of thes function calls can be used to ensure that the agent emits structred data like JSON, which can be difficult produce reliably otherwise. The latest releases of the `langchain` library augment the prior abstractions with direct support for the new function API provided by Open AI. \n",
    "\n",
    "By combining the new function call API with `langchain`, and also our custom set of Bitcoin/Lightning tools, we're able to create agents that are able to directly interact with Bitcoin and also the Lightning Network. At a high level, we create some functions implementing tools, then _describe_ these tools to the agent. A description can include a strict schema for the input arguments (`a: string, b: Invoice`, etc) and also some few-shot examples of what a response would look like. \n",
    "\n",
    "In the rest of this notebook, we'll demo some basic tools to show how things are initialized, and also how to create and prompt the agent. "
   ]
  },
  {
   "cell_type": "markdown",
   "id": "3233c26a",
   "metadata": {},
   "source": [
    "We'll start with some imports needed to get the ball rolling:"
   ]
  },
  {
   "cell_type": "code",
   "execution_count": 2,
   "id": "3a40634c",
   "metadata": {},
   "outputs": [],
   "source": [
    "from bitcoin_tools import LndTools\n",
    "from lightning import LndNode\n",
    "from langchain.agents import initialize_agent, AgentType\n",
    "from langchain.chat_models import ChatOpenAI"
   ]
  },
  {
   "cell_type": "markdown",
   "id": "eb768060",
   "metadata": {},
   "source": [
    "Next we'll create a connection to our lnd node. This uses some dummy data, but be sure slot in proper macaroon, TLS, and connection information. In the future, this'll use LNC to make it much easier to pair to a node:"
   ]
  },
  {
   "cell_type": "code",
   "execution_count": 3,
   "id": "b4fb4dfb",
   "metadata": {},
   "outputs": [],
   "source": [
    "lnd_node = LndNode(\n",
    "    cert_path='~/gocode/src/github.com/lightningnetwork/lnd/test_lnd2/tls.cert',\n",
    "    macaroon_path='~/gocode/src/github.com/lightningnetwork/lnd/test_lnd2/data/chain/bitcoin/simnet/admin.macaroon',\n",
    "    host='localhost',\n",
    "    port=10018\n",
    ")"
   ]
  },
  {
   "cell_type": "markdown",
   "id": "c03676db",
   "metadata": {},
   "source": [
    "Next we'll initialize our set of Bitcoin tools, passing in the live `lnd_node` connection above:"
   ]
  },
  {
   "cell_type": "code",
   "execution_count": 4,
   "id": "f7d9f94e",
   "metadata": {},
   "outputs": [],
   "source": [
    "lnd_tools = LndTools.from_lnd_node(lnd_node=lnd_node)"
   ]
  },
  {
   "cell_type": "markdown",
   "id": "556f8310",
   "metadata": {},
   "source": [
    "The final part of our set up will create an instance of the GPT 3.5 model with a cut off date of June 13th. This date is important as only this version of the model knows how to make function calls. GPT 4 works too, but it's a bit slower, and we're not doing anything too fancy here. "
   ]
  },
  {
   "cell_type": "code",
   "execution_count": 5,
   "id": "35a1627e",
   "metadata": {},
   "outputs": [],
   "source": [
    "llm_model = ChatOpenAI(model=\"gpt-3.5-turbo-0613\")\n",
    "\n",
    "bitcoin_agent = initialize_agent(\n",
    "    lnd_tools.get_tools(),\n",
    "    llm_model,\n",
    "    agent=AgentType.OPENAI_FUNCTIONS,\n",
    "    verbose=True,\n",
    ")"
   ]
  },
  {
   "cell_type": "markdown",
   "id": "20d90488",
   "metadata": {},
   "source": [
    "With our agent initialized, let's try out some example prompts!"
   ]
  },
  {
   "cell_type": "markdown",
   "id": "0589a7cb",
   "metadata": {},
   "source": [
    "First, let's see if it can figure out some basic information abuot the node that it's connected to:"
   ]
  },
  {
   "cell_type": "code",
   "execution_count": 6,
   "id": "65dcfdca",
   "metadata": {},
   "outputs": [
    {
     "name": "stdout",
     "output_type": "stream",
     "text": [
      "\n",
      "\n",
      "\u001b[1m> Entering new  chain...\u001b[0m\n",
      "\u001b[32;1m\u001b[1;3m\n",
      "Invoking: `channel_balance` with `{}`\n",
      "\n",
      "\n",
      "\u001b[0m\u001b[36;1m\u001b[1;3mbalance: 30399\n",
      "local_balance {\n",
      "  sat: 30399\n",
      "  msat: 30399000\n",
      "}\n",
      "remote_balance {\n",
      "  sat: 966131\n",
      "  msat: 966131000\n",
      "}\n",
      "unsettled_local_balance {\n",
      "}\n",
      "unsettled_remote_balance {\n",
      "}\n",
      "pending_open_local_balance {\n",
      "}\n",
      "pending_open_remote_balance {\n",
      "}\n",
      "\u001b[0m\u001b[32;1m\u001b[1;3mYour current channel balance is 30,399 satoshis.\u001b[0m\n",
      "\n",
      "\u001b[1m> Finished chain.\u001b[0m\n",
      "Your current channel balance is 30,399 satoshis.\n"
     ]
    }
   ],
   "source": [
    "print(bitcoin_agent.run('What is my current channel balance in satoshis?'))"
   ]
  },
  {
   "cell_type": "code",
   "execution_count": 7,
   "id": "f055e9bb",
   "metadata": {},
   "outputs": [
    {
     "name": "stdout",
     "output_type": "stream",
     "text": [
      "\n",
      "\n",
      "\u001b[1m> Entering new  chain...\u001b[0m\n",
      "\u001b[32;1m\u001b[1;3m\n",
      "Invoking: `wallet_balance` with `{}`\n",
      "\n",
      "\n",
      "\u001b[0m\u001b[33;1m\u001b[1;3mtotal_balance: 1000\n",
      "confirmed_balance: 1000\n",
      "reserved_balance_anchor_chan: 10000\n",
      "account_balance {\n",
      "  key: \"imported\"\n",
      "  value {\n",
      "    confirmed_balance: 1000\n",
      "  }\n",
      "}\n",
      "account_balance {\n",
      "  key: \"default\"\n",
      "  value {\n",
      "  }\n",
      "}\n",
      "\u001b[0m\u001b[32;1m\u001b[1;3mYour current on-chain balance is 1000 satoshis.\u001b[0m\n",
      "\n",
      "\u001b[1m> Finished chain.\u001b[0m\n",
      "Your current on-chain balance is 1000 satoshis.\n"
     ]
    }
   ],
   "source": [
    "print(bitcoin_agent.run('What is my current on chain balance'))"
   ]
  },
  {
   "cell_type": "code",
   "execution_count": 8,
   "id": "7c3de09e",
   "metadata": {},
   "outputs": [
    {
     "name": "stdout",
     "output_type": "stream",
     "text": [
      "\n",
      "\n",
      "\u001b[1m> Entering new  chain...\u001b[0m\n",
      "\u001b[32;1m\u001b[1;3m\n",
      "Invoking: `wallet_balance` with `{}`\n",
      "\n",
      "\n",
      "\u001b[0m\u001b[33;1m\u001b[1;3mtotal_balance: 1000\n",
      "confirmed_balance: 1000\n",
      "reserved_balance_anchor_chan: 10000\n",
      "account_balance {\n",
      "  key: \"imported\"\n",
      "  value {\n",
      "    confirmed_balance: 1000\n",
      "  }\n",
      "}\n",
      "account_balance {\n",
      "  key: \"default\"\n",
      "  value {\n",
      "  }\n",
      "}\n",
      "\u001b[0m\u001b[32;1m\u001b[1;3mNo, there is no unconfirmed change in the node. The total balance is 1000 satoshis, and the confirmed balance is also 1000 satoshis.\u001b[0m\n",
      "\n",
      "\u001b[1m> Finished chain.\u001b[0m\n",
      "No, there is no unconfirmed change in the node. The total balance is 1000 satoshis, and the confirmed balance is also 1000 satoshis.\n"
     ]
    }
   ],
   "source": [
    "print(bitcoin_agent.run('Do I have any unconfirmed change in the node?'))"
   ]
  },
  {
   "cell_type": "code",
   "execution_count": 9,
   "id": "f85d0df3",
   "metadata": {},
   "outputs": [
    {
     "name": "stdout",
     "output_type": "stream",
     "text": [
      "\n",
      "\n",
      "\u001b[1m> Entering new  chain...\u001b[0m\n",
      "\u001b[32;1m\u001b[1;3m\n",
      "Invoking: `get_info` with `{}`\n",
      "\n",
      "\n",
      "\u001b[0m\u001b[38;5;200m\u001b[1;3mversion: \"0.16.99-beta commit=v0.16.0-beta-350-gbbbf7d33f\"\n",
      "commit_hash: \"bbbf7d33fb1527acebb44e2a69d16fbcf24cc2fa\"\n",
      "identity_pubkey: \"0231c1b36b280d1ecccff2fd7526b8188b83f918eb549b182f6d1d0c577bfede4c\"\n",
      "alias: \"0231c1b36b280d1ecccf\"\n",
      "color: \"#3399ff\"\n",
      "num_active_channels: 1\n",
      "num_peers: 1\n",
      "block_height: 3305\n",
      "block_hash: \"1931aa2f19b59676edfef04dbbf82ddcf878297f0db27490011f2f790837c372\"\n",
      "best_header_timestamp: 1686961637\n",
      "synced_to_graph: true\n",
      "chains {\n",
      "  chain: \"bitcoin\"\n",
      "  network: \"simnet\"\n",
      "}\n",
      "features {\n",
      "  key: 0\n",
      "  value {\n",
      "    name: \"data-loss-protect\"\n",
      "    is_required: true\n",
      "    is_known: true\n",
      "  }\n",
      "}\n",
      "features {\n",
      "  key: 5\n",
      "  value {\n",
      "    name: \"upfront-shutdown-script\"\n",
      "    is_known: true\n",
      "  }\n",
      "}\n",
      "features {\n",
      "  key: 7\n",
      "  value {\n",
      "    name: \"gossip-queries\"\n",
      "    is_known: true\n",
      "  }\n",
      "}\n",
      "features {\n",
      "  key: 9\n",
      "  value {\n",
      "    name: \"tlv-onion\"\n",
      "    is_known: true\n",
      "  }\n",
      "}\n",
      "features {\n",
      "  key: 12\n",
      "  value {\n",
      "    name: \"static-remote-key\"\n",
      "    is_required: true\n",
      "    is_known: true\n",
      "  }\n",
      "}\n",
      "features {\n",
      "  key: 14\n",
      "  value {\n",
      "    name: \"payment-addr\"\n",
      "    is_required: true\n",
      "    is_known: true\n",
      "  }\n",
      "}\n",
      "features {\n",
      "  key: 17\n",
      "  value {\n",
      "    name: \"multi-path-payments\"\n",
      "    is_known: true\n",
      "  }\n",
      "}\n",
      "features {\n",
      "  key: 23\n",
      "  value {\n",
      "    name: \"anchors-zero-fee-htlc-tx\"\n",
      "    is_known: true\n",
      "  }\n",
      "}\n",
      "features {\n",
      "  key: 27\n",
      "  value {\n",
      "    name: \"shutdown-any-segwit\"\n",
      "    is_known: true\n",
      "  }\n",
      "}\n",
      "features {\n",
      "  key: 30\n",
      "  value {\n",
      "    name: \"amp\"\n",
      "    is_required: true\n",
      "    is_known: true\n",
      "  }\n",
      "}\n",
      "features {\n",
      "  key: 31\n",
      "  value {\n",
      "    name: \"amp\"\n",
      "    is_known: true\n",
      "  }\n",
      "}\n",
      "features {\n",
      "  key: 45\n",
      "  value {\n",
      "    name: \"explicit-commitment-type\"\n",
      "    is_known: true\n",
      "  }\n",
      "}\n",
      "features {\n",
      "  key: 2023\n",
      "  value {\n",
      "    name: \"script-enforced-lease\"\n",
      "    is_known: true\n",
      "  }\n",
      "}\n",
      "\u001b[0m\u001b[32;1m\u001b[1;3mI am hooked up to version 0.16.99-beta of lnd.\u001b[0m\n",
      "\n",
      "\u001b[1m> Finished chain.\u001b[0m\n",
      "I am hooked up to version 0.16.99-beta of lnd.\n"
     ]
    }
   ],
   "source": [
    "print(bitcoin_agent.run('what version of lnd are you hooked up to?'))"
   ]
  },
  {
   "cell_type": "markdown",
   "id": "250a003d",
   "metadata": {},
   "source": [
    "So it can figure out which function it needs to call in order to figure how to execute/satsify the prompt. Let's trying some stuff that's a bit more LN specific:"
   ]
  },
  {
   "cell_type": "code",
   "execution_count": 10,
   "id": "394fba62",
   "metadata": {},
   "outputs": [
    {
     "name": "stdout",
     "output_type": "stream",
     "text": [
      "\n",
      "\n",
      "\u001b[1m> Entering new  chain...\u001b[0m\n",
      "\u001b[32;1m\u001b[1;3m\n",
      "Invoking: `decode_invoice` with `{'invoice': 'lnsb100u1pjfz83lpp55h08akqscecxejh5jfecdx7hxf693tsv7c3lyp207fjqwmx9a8fsdqqcqzzsxqyz5vqsp5xhdak7n7h2dtl0gky9xzffnwel67h94jawkn0skpkj4xmcvtyphq9qyyssqrk86elwl2wctg6pw4uxjh4a3swrpljfvefy3xcxxk90tu484wxrpyu5pcwdfk65yjgw4fash3dsyuyxdyalengm4pwwj8t083cgqyhcphvaj27'}`\n",
      "\n",
      "\n",
      "\u001b[0m\u001b[33;1m\u001b[1;3mdestination: \"038cf9360fa60a6de14ad7490950f90e06e828d4557a711aa54fabc6a5f2b4d81d\"\n",
      "payment_hash: \"a5de7ed810c6706ccaf49273869bd7327458ae0cf623f2054ff264076cc5e9d3\"\n",
      "num_satoshis: 10000\n",
      "timestamp: 1687232063\n",
      "expiry: 86400\n",
      "cltv_expiry: 80\n",
      "payment_addr: \"5\\333\\333z~\\272\\232\\277\\275\\026!L$\\246n\\317\\365\\353\\226\\262\\353\\2557\\302\\301\\264\\252m\\341\\213 n\"\n",
      "num_msat: 10000000\n",
      "features {\n",
      "  key: 9\n",
      "  value {\n",
      "    name: \"tlv-onion\"\n",
      "    is_known: true\n",
      "  }\n",
      "}\n",
      "features {\n",
      "  key: 14\n",
      "  value {\n",
      "    name: \"payment-addr\"\n",
      "    is_required: true\n",
      "    is_known: true\n",
      "  }\n",
      "}\n",
      "features {\n",
      "  key: 17\n",
      "  value {\n",
      "    name: \"multi-path-payments\"\n",
      "    is_known: true\n",
      "  }\n",
      "}\n",
      "\u001b[0m\u001b[32;1m\u001b[1;3mThe invoice is requesting 10,000 satoshis.\u001b[0m\n",
      "\n",
      "\u001b[1m> Finished chain.\u001b[0m\n",
      "The invoice is requesting 10,000 satoshis.\n"
     ]
    }
   ],
   "source": [
    "invoice = \"lnsb100u1pjfz83lpp55h08akqscecxejh5jfecdx7hxf693tsv7c3lyp207fjqwmx9a8fsdqqcqzzsxqyz5vqsp5xhdak7n7h2dtl0gky9xzffnwel67h94jawkn0skpkj4xmcvtyphq9qyyssqrk86elwl2wctg6pw4uxjh4a3swrpljfvefy3xcxxk90tu484wxrpyu5pcwdfk65yjgw4fash3dsyuyxdyalengm4pwwj8t083cgqyhcphvaj27\"\n",
    "prompt = \"How many satoshis is this invoice requesting: {invoice}\".format(invoice=invoice)\n",
    "print(bitcoin_agent.run(prompt))"
   ]
  },
  {
   "cell_type": "code",
   "execution_count": 11,
   "id": "4f5adaef",
   "metadata": {},
   "outputs": [
    {
     "name": "stdout",
     "output_type": "stream",
     "text": [
      "\n",
      "\n",
      "\u001b[1m> Entering new  chain...\u001b[0m\n",
      "\u001b[32;1m\u001b[1;3m\n",
      "Invoking: `decode_invoice` with `{'invoice': 'lnsb100u1pjfz83lpp55h08akqscecxejh5jfecdx7hxf693tsv7c3lyp207fjqwmx9a8fsdqqcqzzsxqyz5vqsp5xhdak7n7h2dtl0gky9xzffnwel67h94jawkn0skpkj4xmcvtyphq9qyyssqrk86elwl2wctg6pw4uxjh4a3swrpljfvefy3xcxxk90tu484wxrpyu5pcwdfk65yjgw4fash3dsyuyxdyalengm4pwwj8t083cgqyhcphvaj27'}`\n",
      "\n",
      "\n",
      "\u001b[0m\u001b[33;1m\u001b[1;3mdestination: \"038cf9360fa60a6de14ad7490950f90e06e828d4557a711aa54fabc6a5f2b4d81d\"\n",
      "payment_hash: \"a5de7ed810c6706ccaf49273869bd7327458ae0cf623f2054ff264076cc5e9d3\"\n",
      "num_satoshis: 10000\n",
      "timestamp: 1687232063\n",
      "expiry: 86400\n",
      "cltv_expiry: 80\n",
      "payment_addr: \"5\\333\\333z~\\272\\232\\277\\275\\026!L$\\246n\\317\\365\\353\\226\\262\\353\\2557\\302\\301\\264\\252m\\341\\213 n\"\n",
      "num_msat: 10000000\n",
      "features {\n",
      "  key: 9\n",
      "  value {\n",
      "    name: \"tlv-onion\"\n",
      "    is_known: true\n",
      "  }\n",
      "}\n",
      "features {\n",
      "  key: 14\n",
      "  value {\n",
      "    name: \"payment-addr\"\n",
      "    is_required: true\n",
      "    is_known: true\n",
      "  }\n",
      "}\n",
      "features {\n",
      "  key: 17\n",
      "  value {\n",
      "    name: \"multi-path-payments\"\n",
      "    is_known: true\n",
      "  }\n",
      "}\n",
      "\u001b[0m"
     ]
    },
    {
     "name": "stderr",
     "output_type": "stream",
     "text": [
      "Retrying langchain.chat_models.openai.ChatOpenAI.completion_with_retry.<locals>._completion_with_retry in 1.0 seconds as it raised RateLimitError: That model is currently overloaded with other requests. You can retry your request, or contact us through our help center at help.openai.com if the error persists. (Please include the request ID 976ee90ffe8a550092ca828c03f191f6 in your message.).\n"
     ]
    },
    {
     "name": "stdout",
     "output_type": "stream",
     "text": [
      "\u001b[32;1m\u001b[1;3mThis Lightning invoice is for a payment of 10,000 satoshis (0.0001 BTC). The payment is to be made to the destination address \"038cf9360fa60a6de14ad7490950f90e06e828d4557a711aa54fabc6a5f2b4d81d\". The payment hash is \"a5de7ed810c6706ccaf49273869bd7327458ae0cf623f2054ff264076cc5e9d3\".\n",
      "\n",
      "The invoice has a timestamp of 1687232063, indicating when it was created. It will expire in 86400 seconds (24 hours). The CLTV expiry is set to 80, which means the payment must be completed before a certain block height.\n",
      "\n",
      "The payment address is a series of characters that uniquely identifies the payment. It is represented as \"5\\333\\333z~\\272\\232\\277\\275\\026!L$\\246n\\317\\365\\353\\226\\262\\353\\2557\\302\\301\\264\\252m\\341\\213 n\".\n",
      "\n",
      "The invoice also includes some features. The \"tlv-onion\" feature allows for onion-encrypted payloads using the TLV format. The \"payment-addr\" feature is required and indicates that a payment address is included in the invoice. The \"multi-path-payments\" feature supports splitting the payment into multiple paths for improved reliability.\n",
      "\n",
      "Please note that this invoice is specific to the Lightning Network and can only be paid using a Lightning-enabled wallet or service.\u001b[0m\n",
      "\n",
      "\u001b[1m> Finished chain.\u001b[0m\n",
      "This Lightning invoice is for a payment of 10,000 satoshis (0.0001 BTC). The payment is to be made to the destination address \"038cf9360fa60a6de14ad7490950f90e06e828d4557a711aa54fabc6a5f2b4d81d\". The payment hash is \"a5de7ed810c6706ccaf49273869bd7327458ae0cf623f2054ff264076cc5e9d3\".\n",
      "\n",
      "The invoice has a timestamp of 1687232063, indicating when it was created. It will expire in 86400 seconds (24 hours). The CLTV expiry is set to 80, which means the payment must be completed before a certain block height.\n",
      "\n",
      "The payment address is a series of characters that uniquely identifies the payment. It is represented as \"5\\333\\333z~\\272\\232\\277\\275\\026!L$\\246n\\317\\365\\353\\226\\262\\353\\2557\\302\\301\\264\\252m\\341\\213 n\".\n",
      "\n",
      "The invoice also includes some features. The \"tlv-onion\" feature allows for onion-encrypted payloads using the TLV format. The \"payment-addr\" feature is required and indicates that a payment address is included in the invoice. The \"multi-path-payments\" feature supports splitting the payment into multiple paths for improved reliability.\n",
      "\n",
      "Please note that this invoice is specific to the Lightning Network and can only be paid using a Lightning-enabled wallet or service.\n"
     ]
    }
   ],
   "source": [
    "prompt = \"What else can you tell me about this Lightning invoice? Your response should be in natural language, as if you were describing the payment requirements to a customer. {invoice}\".format(invoice=invoice)\n",
    "\n",
    "print(bitcoin_agent.run(prompt))"
   ]
  },
  {
   "cell_type": "code",
   "execution_count": 17,
   "id": "cda19d7d",
   "metadata": {},
   "outputs": [
    {
     "name": "stdout",
     "output_type": "stream",
     "text": [
      "\n",
      "\n",
      "\u001b[1m> Entering new  chain...\u001b[0m\n",
      "\u001b[32;1m\u001b[1;3m\n",
      "Invoking: `send_payment` with `{'invoice': 'lnsb10n1pjfzgscpp5gayl6r39ty0cnjsdf889aywn9qlvmr7msru48vjc29k5akde43hsdqqcqzzsxqyz5vqsp5mq4hutpexz6zp8kyfr6l9khxnx4gzkqsxrmgdxz0l9edk57am64q9qyyssq2j2hg7rzyfr4t9t0t2jqm7qq86atzz4w82l2zggvghq4zx5vcey3m93skdjwq58x63530ryke53tms920sj244mgftdthw54g22qwfgqq2kgfc'}`\n",
      "\n",
      "\n",
      "\u001b[0m\u001b[36;1m\u001b[1;3mpayment_preimage: \"/8\\245\\276@;\\027\\265\\327\\343\\0259T\\370\\310$6\\264.G\\253*\\025d\\262z~\\3777\\373j}\"\n",
      "payment_route {\n",
      "  total_time_lock: 3388\n",
      "  total_amt: 1\n",
      "  hops {\n",
      "    chan_id: 3619592278704128\n",
      "    chan_capacity: 1000000\n",
      "    amt_to_forward: 1\n",
      "    expiry: 3388\n",
      "    amt_to_forward_msat: 1000\n",
      "    pub_key: \"038cf9360fa60a6de14ad7490950f90e06e828d4557a711aa54fabc6a5f2b4d81d\"\n",
      "    tlv_payload: true\n",
      "    mpp_record {\n",
      "      payment_addr: \"\\330+~,90\\264 \\236\\304H\\365\\362\\332\\346\\231\\252\\201X\\0200\\366\\206\\230O\\371r\\333S\\335\\336\\252\"\n",
      "      total_amt_msat: 1000\n",
      "    }\n",
      "  }\n",
      "  total_amt_msat: 1000\n",
      "}\n",
      "payment_hash: \"GI\\375\\016%Y\\037\\211\\312\\rI\\316^\\221\\323(>\\315\\217\\333\\200\\371S\\262XQmN\\331\\271\\254o\"\n",
      "\u001b[0m\u001b[32;1m\u001b[1;3mThe payment was successful. The preimage for the invoice is: \"/8\\245\\276@;\\027\\265\\327\\343\\0259T\\370\\310$6\\264.G\\253*\\025d\\262z~\\3777\\373j}\".\n",
      "\n",
      "The payment took the following route:\n",
      "- Total time lock: 3388\n",
      "- Total amount: 1 satoshi\n",
      "\n",
      "Route hops:\n",
      "- Channel ID: 3619592278704128\n",
      "- Channel capacity: 1000000 satoshis\n",
      "- Amount to forward: 1 satoshi\n",
      "- Expiry: 3388\n",
      "- Amount to forward in milli-satoshis: 1000 msat\n",
      "- Public key: \"038cf9360fa60a6de14ad7490950f90e06e828d4557a711aa54fabc6a5f2b4d81d\"\n",
      "- TLV payload: true\n",
      "- MPP record:\n",
      "  - Payment address: \"\\330+~,90\\264 \\236\\304H\\365\\362\\332\\346\\231\\252\\201X\\0200\\366\\206\\230O\\371r\\333S\\335\\336\\252\"\n",
      "  - Total amount in milli-satoshis: 1000 msat\n",
      "\n",
      "The total amount in milli-satoshis for the payment is 1000 msat.\n",
      "\n",
      "Please note that the fees paid for the payment are not explicitly provided in the response.\u001b[0m\n",
      "\n",
      "\u001b[1m> Finished chain.\u001b[0m\n",
      "The payment was successful. The preimage for the invoice is: \"/8\\245\\276@;\\027\\265\\327\\343\\0259T\\370\\310$6\\264.G\\253*\\025d\\262z~\\3777\\373j}\".\n",
      "\n",
      "The payment took the following route:\n",
      "- Total time lock: 3388\n",
      "- Total amount: 1 satoshi\n",
      "\n",
      "Route hops:\n",
      "- Channel ID: 3619592278704128\n",
      "- Channel capacity: 1000000 satoshis\n",
      "- Amount to forward: 1 satoshi\n",
      "- Expiry: 3388\n",
      "- Amount to forward in milli-satoshis: 1000 msat\n",
      "- Public key: \"038cf9360fa60a6de14ad7490950f90e06e828d4557a711aa54fabc6a5f2b4d81d\"\n",
      "- TLV payload: true\n",
      "- MPP record:\n",
      "  - Payment address: \"\\330+~,90\\264 \\236\\304H\\365\\362\\332\\346\\231\\252\\201X\\0200\\366\\206\\230O\\371r\\333S\\335\\336\\252\"\n",
      "  - Total amount in milli-satoshis: 1000 msat\n",
      "\n",
      "The total amount in milli-satoshis for the payment is 1000 msat.\n",
      "\n",
      "Please note that the fees paid for the payment are not explicitly provided in the response.\n"
     ]
    }
   ],
   "source": [
    "invoice_to_pay = \"lnsb10n1pjfzgscpp5gayl6r39ty0cnjsdf889aywn9qlvmr7msru48vjc29k5akde43hsdqqcqzzsxqyz5vqsp5mq4hutpexz6zp8kyfr6l9khxnx4gzkqsxrmgdxz0l9edk57am64q9qyyssq2j2hg7rzyfr4t9t0t2jqm7qq86atzz4w82l2zggvghq4zx5vcey3m93skdjwq58x63530ryke53tms920sj244mgftdthw54g22qwfgqq2kgfc\"\n",
    "prompt = \"Pay this invoice, and return the preimage for ths invoice. Also can you tell me anything about the route the payment took, and how much in fees I paid: {invoice}\".format(invoice=invoice_to_pay)\n",
    "print(bitcoin_agent.run(prompt))"
   ]
  },
  {
   "cell_type": "code",
   "execution_count": null,
   "id": "c47d16dd",
   "metadata": {},
   "outputs": [],
   "source": []
  },
  {
   "cell_type": "code",
   "execution_count": null,
   "id": "d00035cc",
   "metadata": {},
   "outputs": [],
   "source": []
  },
  {
   "cell_type": "code",
   "execution_count": null,
   "id": "5521d2e8",
   "metadata": {},
   "outputs": [],
   "source": []
  }
 ],
 "metadata": {
  "kernelspec": {
   "display_name": "Python 3 (ipykernel)",
   "language": "python",
   "name": "python3"
  },
  "language_info": {
   "codemirror_mode": {
    "name": "ipython",
    "version": 3
   },
   "file_extension": ".py",
   "mimetype": "text/x-python",
   "name": "python",
   "nbconvert_exporter": "python",
   "pygments_lexer": "ipython3",
   "version": "3.10.8"
  }
 },
 "nbformat": 4,
 "nbformat_minor": 5
}
